{
  "nbformat": 4,
  "nbformat_minor": 0,
  "metadata": {
    "colab": {
      "provenance": [],
      "authorship_tag": "ABX9TyM1VjwxEfbpTnRAIpkkPSAv"
    },
    "kernelspec": {
      "name": "python3",
      "display_name": "Python 3"
    },
    "language_info": {
      "name": "python"
    }
  },
  "cells": [
    {
      "cell_type": "code",
      "source": [
        "!pip install torch transformers coremltools"
      ],
      "metadata": {
        "id": "weXU8L9s28lO"
      },
      "execution_count": null,
      "outputs": []
    },
    {
      "cell_type": "code",
      "source": [
        "import torch\n",
        "import torch.nn as nn\n",
        "from transformers import AutoModelForCausalLM, AutoTokenizer\n",
        "import coremltools as ct\n",
        "\n",
        "# Load model and prepare dummy input\n",
        "model_id = \"facebook/opt-125m\"\n",
        "model = AutoModelForCausalLM.from_pretrained(model_id)\n",
        "tokenizer = AutoTokenizer.from_pretrained(model_id)\n",
        "\n",
        "input_ids = tokenizer(\"hello\", return_tensors=\"pt\").input_ids"
      ],
      "metadata": {
        "id": "eTefal_izODm"
      },
      "execution_count": null,
      "outputs": []
    },
    {
      "cell_type": "code",
      "source": [
        "# Model wrapper for tracing\n",
        "class OPTWrapper(nn.Module):\n",
        "    def __init__(self, model):\n",
        "        super().__init__()\n",
        "        self.model = model\n",
        "\n",
        "    def forward(self, input_ids):\n",
        "        outputs = self.model(input_ids)\n",
        "        return outputs.logits\n",
        "\n",
        "# Trace the model\n",
        "wrapped_model = OPTWrapper(model)\n",
        "wrapped_model.eval()\n",
        "\n",
        "traced_model = torch.jit.trace(\n",
        "    wrapped_model,\n",
        "    input_ids,\n",
        "    strict=False\n",
        ")\n",
        "\n",
        "# Tokenizer must be imported in IOS app to interpret input/output\n",
        "tokenizer.save_pretrained(\"./tokenizer-opt-125m\")"
      ],
      "metadata": {
        "id": "k7z0ibc73RyU"
      },
      "execution_count": null,
      "outputs": []
    },
    {
      "cell_type": "code",
      "source": [
        "frozen_model = torch.jit.freeze(traced_model)\n",
        "\n",
        "# Convert to CoreML\n",
        "input_shape = ct.Shape(shape=(1, ct.RangeDim(1, 100)))\n",
        "mlmodel = ct.convert(\n",
        "    frozen_model,\n",
        "    inputs=[ct.TensorType(name=\"input_ids\", shape=input_shape)],\n",
        "    compute_units=ct.ComputeUnit.CPU_AND_NE,\n",
        "    convert_to=\"mlprogram\",\n",
        "    minimum_deployment_target=ct.target.iOS16\n",
        ")\n",
        "\n",
        "mlmodel.save(\"opt-125m.mlpackage\")"
      ],
      "metadata": {
        "id": "ST4JbEtKz0d0"
      },
      "execution_count": null,
      "outputs": []
    },
    {
      "cell_type": "code",
      "source": [
        "!zip -r opt-125m.mlpackage.zip /content/opt-125m.mlpackage"
      ],
      "metadata": {
        "id": "ydni3Vkt3Y-d"
      },
      "execution_count": null,
      "outputs": []
    },
    {
      "cell_type": "code",
      "source": [
        "from google.colab import files\n",
        "files.download(\"opt-125m.mlpackage.zip\")"
      ],
      "metadata": {
        "id": "uOJJpL2NwYeA"
      },
      "execution_count": null,
      "outputs": []
    }
  ]
}